{
  "nbformat": 4,
  "nbformat_minor": 0,
  "metadata": {
    "colab": {
      "name": "Pretrained_up.ipynb",
      "version": "0.3.2",
      "provenance": [],
      "collapsed_sections": [],
      "include_colab_link": true
    },
    "kernelspec": {
      "name": "python3",
      "display_name": "Python 3"
    }
  },
  "cells": [
    {
      "cell_type": "markdown",
      "metadata": {
        "id": "view-in-github",
        "colab_type": "text"
      },
      "source": [
        "<a href=\"https://colab.research.google.com/github/TejaSreenivas/Word_Embeddings/blob/master/Pretrained_updated.ipynb\" target=\"_parent\"><img src=\"https://colab.research.google.com/assets/colab-badge.svg\" alt=\"Open In Colab\"/></a>"
      ]
    },
    {
      "cell_type": "code",
      "metadata": {
        "id": "bclPA-eTEW9A",
        "colab_type": "code",
        "outputId": "8dbc3a5b-964c-4fc6-b70b-f9e730093c22",
        "colab": {
          "base_uri": "https://localhost:8080/",
          "height": 295
        }
      },
      "source": [
        "from google.colab import drive\n",
        "import os\n",
        "import sys\n",
        "drive.mount('/content/drive')\n",
        "data_path = os.getcwd()+'/drive/My Drive/datasets/'\n",
        "sys.path.insert(0, data_path)\n",
        "os.listdir(data_path)\n"
      ],
      "execution_count": 0,
      "outputs": [
        {
          "output_type": "stream",
          "text": [
            "Drive already mounted at /content/drive; to attempt to forcibly remount, call drive.mount(\"/content/drive\", force_remount=True).\n"
          ],
          "name": "stdout"
        },
        {
          "output_type": "execute_result",
          "data": {
            "text/plain": [
              "['GoogleNews-vectors-negative300.bin.gz',\n",
              " 'cifar-10-batches-py',\n",
              " 'mnist',\n",
              " 'fashion',\n",
              " 'Digital_Music_5.json',\n",
              " 'News_Category_Dataset_v2.json',\n",
              " 'large_imbd',\n",
              " 'Consumer_Complaints.csv',\n",
              " 'clustering',\n",
              " 'load_mnist.py',\n",
              " '__pycache__',\n",
              " 'aclImdb_v1.tar.gz',\n",
              " 'load_cifar.py',\n",
              " 'load_mnist.py.gdoc',\n",
              " 'load_cifar.py.gdoc']"
            ]
          },
          "metadata": {
            "tags": []
          },
          "execution_count": 1
        }
      ]
    },
    {
      "cell_type": "code",
      "metadata": {
        "id": "--uarqgVEp0j",
        "colab_type": "code",
        "outputId": "fea801bd-839f-4d68-ab16-04c34455f988",
        "colab": {
          "base_uri": "https://localhost:8080/",
          "height": 35
        }
      },
      "source": [
        "\n",
        "import numpy as np\n",
        "import pandas as pd \n",
        "import pickle\n",
        "import json\n",
        "import gensim\n",
        "import os\n",
        "import re\n",
        "\n",
        "from sklearn.model_selection import train_test_split\n",
        "from sklearn.feature_extraction.text import TfidfVectorizer, CountVectorizer\n",
        "from pandas.plotting import scatter_matrix\n",
        "\n",
        "from keras.preprocessing.text import Tokenizer, text_to_word_sequence\n",
        "from keras.preprocessing.sequence import pad_sequences\n",
        "from keras.preprocessing import sequence\n",
        "from sklearn.preprocessing import MultiLabelBinarizer,LabelEncoder\n",
        "from keras.optimizers import RMSprop, SGD\n",
        "from keras.models import Sequential, Model\n",
        "from keras.layers.core import Dense, Dropout, Activation, Flatten, Reshape\n",
        "from keras.layers import Input, Bidirectional, LSTM, regularizers\n",
        "from keras.layers.embeddings import Embedding\n",
        "from keras.layers.convolutional import Conv1D, MaxPooling1D, MaxPooling2D, Conv2D\n",
        "from keras.layers.normalization import BatchNormalization\n",
        "from keras.callbacks import EarlyStopping\n",
        "from keras.layers import GlobalMaxPool1D\n",
        "from gensim.models import Word2Vec\n",
        "\n",
        "%matplotlib inline\n",
        "\n",
        "import matplotlib\n",
        "import numpy as np\n",
        "import matplotlib.pyplot as plt"
      ],
      "execution_count": 0,
      "outputs": [
        {
          "output_type": "stream",
          "text": [
            "Using TensorFlow backend.\n"
          ],
          "name": "stderr"
        }
      ]
    },
    {
      "cell_type": "code",
      "metadata": {
        "id": "y72KWxZzFwa7",
        "colab_type": "code",
        "colab": {}
      },
      "source": [
        "def cleanhtml(raw_html):\n",
        "  cleanr = re.compile('<.*?>')\n",
        "  cleantext = re.sub(cleanr, '', raw_html)\n",
        "  return cleantext\n",
        "\n",
        "def normalize(txt,to_lower=True):\n",
        "  # Remove HTML Tags\n",
        "  txt = cleanhtml(txt)\n",
        "  txt = txt.split()\n",
        "  # This will keep characters and other symbols\n",
        "  txt = [re.sub(r'http:.*', '', r) for r in txt]\n",
        "  txt = [re.sub(r'https:.*', '', r) for r in txt]\n",
        "  txt = ( \" \".join(txt))\n",
        "  # Remove non-emoticon punctuation and numbers\n",
        "  txt = re.sub(\"[.,!0-9]\", \" \", txt)\n",
        "  txt = \" \".join(txt.split())\n",
        "  return txt"
      ],
      "execution_count": 0,
      "outputs": []
    },
    {
      "cell_type": "code",
      "metadata": {
        "id": "e5IpTTO9Fy4w",
        "colab_type": "code",
        "outputId": "490a2755-246f-4943-ae66-daddd289ea0e",
        "colab": {
          "base_uri": "https://localhost:8080/",
          "height": 35
        }
      },
      "source": [
        "# What does this normalization function look like?\n",
        "clean_text = normalize(\"This is A sentence. not good with things! 123 :) <br> and a link https://gitub.com\")\n",
        "print(clean_text)"
      ],
      "execution_count": 0,
      "outputs": [
        {
          "output_type": "stream",
          "text": [
            "This is A sentence not good with things :) and a link\n"
          ],
          "name": "stdout"
        }
      ]
    },
    {
      "cell_type": "code",
      "metadata": {
        "id": "Iv6-JCj6Fz4R",
        "colab_type": "code",
        "colab": {}
      },
      "source": [
        "def balance(df):\n",
        "    print(\"Balancing the classes\")\n",
        "    type_counts = df['Product'].value_counts()\n",
        "    min_count = min(type_counts.values)\n",
        "    balanced_df = None\n",
        "    for key in type_counts.keys():\n",
        "        df_sub = df[df['Product']==key].sample(n=min_count, replace=False)\n",
        "        if balanced_df is not None:\n",
        "            balanced_df = balanced_df.append(df_sub)\n",
        "        else:\n",
        "            balanced_df = df_sub\n",
        "    return balanced_df"
      ],
      "execution_count": 0,
      "outputs": []
    },
    {
      "cell_type": "code",
      "metadata": {
        "id": "coOJnNgoF152",
        "colab_type": "code",
        "colab": {}
      },
      "source": [
        "def generate_vocab(dataset):\n",
        "  max_len = 400\n",
        "  max_features = 300\n",
        "  vectorizer = TfidfVectorizer(norm='l2', use_idf=True, smooth_idf=True)\n",
        "  response = vectorizer.fit_transform(np.array(dataset['data']))\n",
        "  score = dict()\n",
        "  word_list = []\n",
        "  for word,idf in zip(vectorizer.vocabulary_.items(),vectorizer.idf_):\n",
        "    word_list.append(word[0])\n",
        "    score[word[0]] = word[1]*idf\n",
        "  word_list.sort(key=lambda x: -score[x]) #sorting criteria\n",
        "  return word_list\n",
        "# sorting criteria\n",
        "# -score[x] for descending order of tfidf\n",
        "# vectorize.vocabulary_[x] for sorting by TF\n",
        "# just word_list to randomized list"
      ],
      "execution_count": 0,
      "outputs": []
    },
    {
      "cell_type": "code",
      "metadata": {
        "id": "PcertStZF7Jp",
        "colab_type": "code",
        "colab": {}
      },
      "source": [
        "def shallow_NN(X_train,Y_train,embedding):\n",
        "    # create input layer \n",
        "    model = Sequential()\n",
        "    model.add(embedding)\n",
        "    model.add(GlobalMaxPool1D())\n",
        "    model.add(Dense(100 , activation='relu'))\n",
        "    model.add(Dropout(0.7))\n",
        "    #model.add(Dense(200, activation='relu'))\n",
        "    model.add(Dense(Y_train.shape[1], activation='sigmoid'))\n",
        "    # Compile model\n",
        "    model.compile(loss='categorical_crossentropy', optimizer='adam', metrics=['accuracy'])\n",
        "    print(model.summary())\n",
        "    return model\n",
        "\n"
      ],
      "execution_count": 0,
      "outputs": []
    },
    {
      "cell_type": "code",
      "metadata": {
        "id": "S7kNhQEaF8-Z",
        "colab_type": "code",
        "colab": {}
      },
      "source": [
        "def deep_CNN(X_train,Y_train,embedding):\n",
        "  model = Sequential()\n",
        "  model.add(embedding)\n",
        "  model.add(Conv1D(32, 3, activation='relu',padding=\"same\"))\n",
        "  model.add(Conv1D(64, 3, activation='relu'))\n",
        "  model.add(Conv1D(128, 5, activation='relu',padding=\"same\"))\n",
        "  model.add(Conv1D(256, 5, activation='relu'))\n",
        "  model.add(GlobalMaxPool1D())\n",
        "  model.add(Dense(500,activation = 'relu'))\n",
        "  model.add(Dropout(0.7))\n",
        "  model.add(Dense(Y_train.shape[1], activation='softmax'))\n",
        "  model.compile(loss='categorical_crossentropy', optimizer='adam', metrics=['accuracy'])\n",
        "  print(model.summary())\n",
        "  return model\n"
      ],
      "execution_count": 0,
      "outputs": []
    },
    {
      "cell_type": "code",
      "metadata": {
        "id": "emS88kNZHiuK",
        "colab_type": "code",
        "colab": {}
      },
      "source": [
        "def BiLSTM(X_train,Y_train,embedding):\n",
        "  lstm_out = 64\n",
        "  model = Sequential()\n",
        "  model.add( embedding )\n",
        "  model.add( Bidirectional( LSTM(lstm_out, recurrent_dropout=0.7, activation='tanh')))\n",
        "  model.add(Dropout(0.7))\n",
        "  model.add( Dense(Y_train.shape[1], activation = 'softmax'))\n",
        "  model.compile(loss='categorical_crossentropy',\n",
        "                optimizer='adam',\n",
        "                metrics=['acc'])\n",
        "  print(model.summary())\n",
        "  return model"
      ],
      "execution_count": 0,
      "outputs": []
    },
    {
      "cell_type": "code",
      "metadata": {
        "id": "5761nYiCH4E6",
        "colab_type": "code",
        "colab": {}
      },
      "source": [
        "def Train_on_models(train,test):\n",
        "  import gc\n",
        "  gc.collect()\n",
        "  max_features = 15000\n",
        "  max_len = 400\n",
        "  emb_dim = 300\n",
        "  dataset = pd.concat([train,test])\n",
        "  num_classes = np.unique(train['label']).shape[0]\n",
        "  \n",
        "    # one Hot encoding\n",
        "  id_mtx = np.identity(num_classes, dtype = np.float64)\n",
        "  Y_train = id_mtx[np.array(train['label'])]\n",
        "  Y_test = id_mtx[np.array(test['label'])]\n",
        "  \n",
        "  \n",
        "  model_path = data_path+\"/GoogleNews-vectors-negative300.bin.gz\"\n",
        "  cbow = gensim.models.KeyedVectors.load_word2vec_format(model_path, binary=True)\n",
        "  print(\"Words similar to good: \")\n",
        "  print(cbow.wv.most_similar_cosmul(positive=['woman', 'king'], negative=['man']))\n",
        "  tokenizer = Tokenizer(num_words=max_features, split=' ')\n",
        "  tokenizer.fit_on_texts(dataset['data'])\n",
        "  vocab_list = generate_vocab(dataset)\n",
        "  X_train = tokenizer.texts_to_sequences(train['data'])\n",
        "  train = None\n",
        "  gc.collect()\n",
        "  X_train = pad_sequences(X_train, maxlen=max_len, padding='post')\n",
        "  X_test = tokenizer.texts_to_sequences(test['data'])\n",
        "  test = None\n",
        "  gc.collect()\n",
        "  X_test = pad_sequences(X_test, maxlen=max_len, padding='post')\n",
        "  \n",
        "  num_words = min(max_features, len(vocab_list))+1\n",
        "  embedding_matrix = np.zeros((num_words, emb_dim))\n",
        "  # create an embedding matrix for each word in our vocabulary\n",
        "  word_index = tokenizer.word_index\n",
        "  for word,i in word_index.items():\n",
        "    if i >= max_len:\n",
        "      continue\n",
        "    if word in cbow.wv.vocab:\n",
        "      embedding_matrix[i] = cbow.wv.word_vec(word)\n",
        "  \n",
        "  embedding_layer = Embedding(num_words,\n",
        "                             emb_dim,\n",
        "                             weights = [embedding_matrix],\n",
        "                             input_length = max_len,\n",
        "                             trainable = True)\n",
        "  cbow=None\n",
        "  gc.collect()\n",
        "\n",
        "  # Naive Bayes is not applicable for this model\n",
        "  \"\"\"\n",
        "  # shallow ANN\n",
        "  model_nn = shallow_NN(X_train,Y_train,embedding_layer)\n",
        "  hist_nn = model_nn.fit(X_train, Y_train, batch_size=32, epochs=20, verbose=1, \n",
        "            validation_data=(X_test,Y_test))\n",
        "  name = os.getcwd()+\"/drive/My Drive/outputs/\"\n",
        "  np.save(name+\"pre_ann.npy\",hist_nn.history)\n",
        " \n",
        "  # Deep CNN\n",
        "  model_cnn = deep_CNN(X_train,Y_train,embedding_layer)\n",
        "  hist_cnn = model_cnn.fit(X_train, Y_train, batch_size=32, epochs=20, verbose=1, \n",
        "            validation_data=(X_test,Y_test)) \n",
        "  name = os.getcwd()+\"/drive/My Drive/outputs/\"\n",
        "  np.save(name+\"pre_cnn.npy\",hist_cnn.history)\n",
        "  \"\"\"\n",
        "  #using LSTM\n",
        "  model_lstm = BiLSTM(X_train,Y_train, embedding_layer)\n",
        "  hist_lstm = model_lstm.fit(X_train, Y_train, batch_size=32, epochs=20, verbose=1, \n",
        "            validation_data=(X_test,Y_test)) \n",
        "  name = os.getcwd()+\"/drive/My Drive/outputs/\"\n",
        "  np.save(name+\"pre_rnn.npy\",hist_lstm.history)\n",
        "  # save file\n",
        "  file = dict()\n",
        "  #file['NB'] = acc_NB\n",
        "  \"\"\"\n",
        "  file['NN'] = hist_nn.history\n",
        "  file['CNN'] = hist_cnn.history\n",
        "  \"\"\"\n",
        "  file['BiLSTM'] = hist_lstm.history\n",
        "  return file"
      ],
      "execution_count": 0,
      "outputs": []
    },
    {
      "cell_type": "markdown",
      "metadata": {
        "id": "2y775wJ2YOmI",
        "colab_type": "text"
      },
      "source": [
        "## Dataset : IMDB Movie reviews"
      ]
    },
    {
      "cell_type": "markdown",
      "metadata": {
        "id": "CBvJ83usYagW",
        "colab_type": "text"
      },
      "source": [
        "### Load and Pre-process Dataset"
      ]
    },
    {
      "cell_type": "code",
      "metadata": {
        "id": "2HG8CEjiIbQj",
        "colab_type": "code",
        "outputId": "2170cef1-14ec-4f4e-b08d-0e2a1fc4ec5a",
        "colab": {
          "base_uri": "https://localhost:8080/",
          "height": 1071
        }
      },
      "source": [
        "df2 = pd.read_csv(data_path+\"large_imbd/imdb_master.csv\",encoding=\"latin-1\")\n",
        "print(df2.head())\n",
        "df2 = df2.drop(['Unnamed: 0','type','file'],axis=1)\n",
        "df2.columns = [\"review\",\"sentiment\"]\n",
        "print(df2.head())\n",
        "df2 = df2[df2.sentiment != 'unsup']\n",
        "df2['sentiment'] = df2['sentiment'].map({'pos': 1, 'neg': 0})\n",
        "print(df2.head())\n",
        "#read datasets into dataframe\n",
        "# IMDB dataset  \n",
        "df2.columns = [\"data\",\"label\"]\n",
        "df2['data'] = np.array(df2['data'].map(normalize))\n",
        "df_train, df_test = train_test_split(df2, test_size=0.5,stratify=df2['label'])\n"
      ],
      "execution_count": 0,
      "outputs": [
        {
          "output_type": "error",
          "ename": "KeyboardInterrupt",
          "evalue": "ignored",
          "traceback": [
            "\u001b[0;31m---------------------------------------------------------------------------\u001b[0m",
            "\u001b[0;31mKeyboardInterrupt\u001b[0m                         Traceback (most recent call last)",
            "\u001b[0;32m<ipython-input-11-b9bcb85efc45>\u001b[0m in \u001b[0;36m<module>\u001b[0;34m()\u001b[0m\n\u001b[0;32m----> 1\u001b[0;31m \u001b[0mdf2\u001b[0m \u001b[0;34m=\u001b[0m \u001b[0mpd\u001b[0m\u001b[0;34m.\u001b[0m\u001b[0mread_csv\u001b[0m\u001b[0;34m(\u001b[0m\u001b[0mdata_path\u001b[0m\u001b[0;34m+\u001b[0m\u001b[0;34m\"large_imbd/imdb_master.csv\"\u001b[0m\u001b[0;34m,\u001b[0m\u001b[0mencoding\u001b[0m\u001b[0;34m=\u001b[0m\u001b[0;34m\"latin-1\"\u001b[0m\u001b[0;34m)\u001b[0m\u001b[0;34m\u001b[0m\u001b[0;34m\u001b[0m\u001b[0m\n\u001b[0m\u001b[1;32m      2\u001b[0m \u001b[0mprint\u001b[0m\u001b[0;34m(\u001b[0m\u001b[0mdf2\u001b[0m\u001b[0;34m.\u001b[0m\u001b[0mhead\u001b[0m\u001b[0;34m(\u001b[0m\u001b[0;34m)\u001b[0m\u001b[0;34m)\u001b[0m\u001b[0;34m\u001b[0m\u001b[0;34m\u001b[0m\u001b[0m\n\u001b[1;32m      3\u001b[0m \u001b[0mdf2\u001b[0m \u001b[0;34m=\u001b[0m \u001b[0mdf2\u001b[0m\u001b[0;34m.\u001b[0m\u001b[0mdrop\u001b[0m\u001b[0;34m(\u001b[0m\u001b[0;34m[\u001b[0m\u001b[0;34m'Unnamed: 0'\u001b[0m\u001b[0;34m,\u001b[0m\u001b[0;34m'type'\u001b[0m\u001b[0;34m,\u001b[0m\u001b[0;34m'file'\u001b[0m\u001b[0;34m]\u001b[0m\u001b[0;34m,\u001b[0m\u001b[0maxis\u001b[0m\u001b[0;34m=\u001b[0m\u001b[0;36m1\u001b[0m\u001b[0;34m)\u001b[0m\u001b[0;34m\u001b[0m\u001b[0;34m\u001b[0m\u001b[0m\n\u001b[1;32m      4\u001b[0m \u001b[0mdf2\u001b[0m\u001b[0;34m.\u001b[0m\u001b[0mcolumns\u001b[0m \u001b[0;34m=\u001b[0m \u001b[0;34m[\u001b[0m\u001b[0;34m\"review\"\u001b[0m\u001b[0;34m,\u001b[0m\u001b[0;34m\"sentiment\"\u001b[0m\u001b[0;34m]\u001b[0m\u001b[0;34m\u001b[0m\u001b[0;34m\u001b[0m\u001b[0m\n\u001b[1;32m      5\u001b[0m \u001b[0mprint\u001b[0m\u001b[0;34m(\u001b[0m\u001b[0mdf2\u001b[0m\u001b[0;34m.\u001b[0m\u001b[0mhead\u001b[0m\u001b[0;34m(\u001b[0m\u001b[0;34m)\u001b[0m\u001b[0;34m)\u001b[0m\u001b[0;34m\u001b[0m\u001b[0;34m\u001b[0m\u001b[0m\n",
            "\u001b[0;32m/usr/local/lib/python3.6/dist-packages/pandas/io/parsers.py\u001b[0m in \u001b[0;36mparser_f\u001b[0;34m(filepath_or_buffer, sep, delimiter, header, names, index_col, usecols, squeeze, prefix, mangle_dupe_cols, dtype, engine, converters, true_values, false_values, skipinitialspace, skiprows, nrows, na_values, keep_default_na, na_filter, verbose, skip_blank_lines, parse_dates, infer_datetime_format, keep_date_col, date_parser, dayfirst, iterator, chunksize, compression, thousands, decimal, lineterminator, quotechar, quoting, escapechar, comment, encoding, dialect, tupleize_cols, error_bad_lines, warn_bad_lines, skipfooter, skip_footer, doublequote, delim_whitespace, as_recarray, compact_ints, use_unsigned, low_memory, buffer_lines, memory_map, float_precision)\u001b[0m\n\u001b[1;32m    707\u001b[0m                     skip_blank_lines=skip_blank_lines)\n\u001b[1;32m    708\u001b[0m \u001b[0;34m\u001b[0m\u001b[0m\n\u001b[0;32m--> 709\u001b[0;31m         \u001b[0;32mreturn\u001b[0m \u001b[0m_read\u001b[0m\u001b[0;34m(\u001b[0m\u001b[0mfilepath_or_buffer\u001b[0m\u001b[0;34m,\u001b[0m \u001b[0mkwds\u001b[0m\u001b[0;34m)\u001b[0m\u001b[0;34m\u001b[0m\u001b[0;34m\u001b[0m\u001b[0m\n\u001b[0m\u001b[1;32m    710\u001b[0m \u001b[0;34m\u001b[0m\u001b[0m\n\u001b[1;32m    711\u001b[0m     \u001b[0mparser_f\u001b[0m\u001b[0;34m.\u001b[0m\u001b[0m__name__\u001b[0m \u001b[0;34m=\u001b[0m \u001b[0mname\u001b[0m\u001b[0;34m\u001b[0m\u001b[0;34m\u001b[0m\u001b[0m\n",
            "\u001b[0;32m/usr/local/lib/python3.6/dist-packages/pandas/io/parsers.py\u001b[0m in \u001b[0;36m_read\u001b[0;34m(filepath_or_buffer, kwds)\u001b[0m\n\u001b[1;32m    453\u001b[0m \u001b[0;34m\u001b[0m\u001b[0m\n\u001b[1;32m    454\u001b[0m     \u001b[0;32mtry\u001b[0m\u001b[0;34m:\u001b[0m\u001b[0;34m\u001b[0m\u001b[0;34m\u001b[0m\u001b[0m\n\u001b[0;32m--> 455\u001b[0;31m         \u001b[0mdata\u001b[0m \u001b[0;34m=\u001b[0m \u001b[0mparser\u001b[0m\u001b[0;34m.\u001b[0m\u001b[0mread\u001b[0m\u001b[0;34m(\u001b[0m\u001b[0mnrows\u001b[0m\u001b[0;34m)\u001b[0m\u001b[0;34m\u001b[0m\u001b[0;34m\u001b[0m\u001b[0m\n\u001b[0m\u001b[1;32m    456\u001b[0m     \u001b[0;32mfinally\u001b[0m\u001b[0;34m:\u001b[0m\u001b[0;34m\u001b[0m\u001b[0;34m\u001b[0m\u001b[0m\n\u001b[1;32m    457\u001b[0m         \u001b[0mparser\u001b[0m\u001b[0;34m.\u001b[0m\u001b[0mclose\u001b[0m\u001b[0;34m(\u001b[0m\u001b[0;34m)\u001b[0m\u001b[0;34m\u001b[0m\u001b[0;34m\u001b[0m\u001b[0m\n",
            "\u001b[0;32m/usr/local/lib/python3.6/dist-packages/pandas/io/parsers.py\u001b[0m in \u001b[0;36mread\u001b[0;34m(self, nrows)\u001b[0m\n\u001b[1;32m   1067\u001b[0m                 \u001b[0;32mraise\u001b[0m \u001b[0mValueError\u001b[0m\u001b[0;34m(\u001b[0m\u001b[0;34m'skipfooter not supported for iteration'\u001b[0m\u001b[0;34m)\u001b[0m\u001b[0;34m\u001b[0m\u001b[0;34m\u001b[0m\u001b[0m\n\u001b[1;32m   1068\u001b[0m \u001b[0;34m\u001b[0m\u001b[0m\n\u001b[0;32m-> 1069\u001b[0;31m         \u001b[0mret\u001b[0m \u001b[0;34m=\u001b[0m \u001b[0mself\u001b[0m\u001b[0;34m.\u001b[0m\u001b[0m_engine\u001b[0m\u001b[0;34m.\u001b[0m\u001b[0mread\u001b[0m\u001b[0;34m(\u001b[0m\u001b[0mnrows\u001b[0m\u001b[0;34m)\u001b[0m\u001b[0;34m\u001b[0m\u001b[0;34m\u001b[0m\u001b[0m\n\u001b[0m\u001b[1;32m   1070\u001b[0m \u001b[0;34m\u001b[0m\u001b[0m\n\u001b[1;32m   1071\u001b[0m         \u001b[0;32mif\u001b[0m \u001b[0mself\u001b[0m\u001b[0;34m.\u001b[0m\u001b[0moptions\u001b[0m\u001b[0;34m.\u001b[0m\u001b[0mget\u001b[0m\u001b[0;34m(\u001b[0m\u001b[0;34m'as_recarray'\u001b[0m\u001b[0;34m)\u001b[0m\u001b[0;34m:\u001b[0m\u001b[0;34m\u001b[0m\u001b[0;34m\u001b[0m\u001b[0m\n",
            "\u001b[0;32m/usr/local/lib/python3.6/dist-packages/pandas/io/parsers.py\u001b[0m in \u001b[0;36mread\u001b[0;34m(self, nrows)\u001b[0m\n\u001b[1;32m   1837\u001b[0m     \u001b[0;32mdef\u001b[0m \u001b[0mread\u001b[0m\u001b[0;34m(\u001b[0m\u001b[0mself\u001b[0m\u001b[0;34m,\u001b[0m \u001b[0mnrows\u001b[0m\u001b[0;34m=\u001b[0m\u001b[0;32mNone\u001b[0m\u001b[0;34m)\u001b[0m\u001b[0;34m:\u001b[0m\u001b[0;34m\u001b[0m\u001b[0;34m\u001b[0m\u001b[0m\n\u001b[1;32m   1838\u001b[0m         \u001b[0;32mtry\u001b[0m\u001b[0;34m:\u001b[0m\u001b[0;34m\u001b[0m\u001b[0;34m\u001b[0m\u001b[0m\n\u001b[0;32m-> 1839\u001b[0;31m             \u001b[0mdata\u001b[0m \u001b[0;34m=\u001b[0m \u001b[0mself\u001b[0m\u001b[0;34m.\u001b[0m\u001b[0m_reader\u001b[0m\u001b[0;34m.\u001b[0m\u001b[0mread\u001b[0m\u001b[0;34m(\u001b[0m\u001b[0mnrows\u001b[0m\u001b[0;34m)\u001b[0m\u001b[0;34m\u001b[0m\u001b[0;34m\u001b[0m\u001b[0m\n\u001b[0m\u001b[1;32m   1840\u001b[0m         \u001b[0;32mexcept\u001b[0m \u001b[0mStopIteration\u001b[0m\u001b[0;34m:\u001b[0m\u001b[0;34m\u001b[0m\u001b[0;34m\u001b[0m\u001b[0m\n\u001b[1;32m   1841\u001b[0m             \u001b[0;32mif\u001b[0m \u001b[0mself\u001b[0m\u001b[0;34m.\u001b[0m\u001b[0m_first_chunk\u001b[0m\u001b[0;34m:\u001b[0m\u001b[0;34m\u001b[0m\u001b[0;34m\u001b[0m\u001b[0m\n",
            "\u001b[0;32mpandas/_libs/parsers.pyx\u001b[0m in \u001b[0;36mpandas._libs.parsers.TextReader.read\u001b[0;34m()\u001b[0m\n",
            "\u001b[0;32mpandas/_libs/parsers.pyx\u001b[0m in \u001b[0;36mpandas._libs.parsers.TextReader._read_low_memory\u001b[0;34m()\u001b[0m\n",
            "\u001b[0;32mpandas/_libs/parsers.pyx\u001b[0m in \u001b[0;36mpandas._libs.parsers.TextReader._read_rows\u001b[0;34m()\u001b[0m\n",
            "\u001b[0;32mpandas/_libs/parsers.pyx\u001b[0m in \u001b[0;36mpandas._libs.parsers.TextReader._convert_column_data\u001b[0;34m()\u001b[0m\n",
            "\u001b[0;32mpandas/_libs/parsers.pyx\u001b[0m in \u001b[0;36mpandas._libs.parsers.TextReader._convert_tokens\u001b[0;34m()\u001b[0m\n",
            "\u001b[0;32mpandas/_libs/parsers.pyx\u001b[0m in \u001b[0;36mpandas._libs.parsers.TextReader._convert_with_dtype\u001b[0;34m()\u001b[0m\n",
            "\u001b[0;32m/usr/local/lib/python3.6/dist-packages/pandas/core/dtypes/common.py\u001b[0m in \u001b[0;36mis_integer_dtype\u001b[0;34m(arr_or_dtype)\u001b[0m\n\u001b[1;32m    775\u001b[0m \u001b[0;34m\u001b[0m\u001b[0m\n\u001b[1;32m    776\u001b[0m \u001b[0;34m\u001b[0m\u001b[0m\n\u001b[0;32m--> 777\u001b[0;31m \u001b[0;32mdef\u001b[0m \u001b[0mis_integer_dtype\u001b[0m\u001b[0;34m(\u001b[0m\u001b[0marr_or_dtype\u001b[0m\u001b[0;34m)\u001b[0m\u001b[0;34m:\u001b[0m\u001b[0;34m\u001b[0m\u001b[0;34m\u001b[0m\u001b[0m\n\u001b[0m\u001b[1;32m    778\u001b[0m     \"\"\"\n\u001b[1;32m    779\u001b[0m     \u001b[0mCheck\u001b[0m \u001b[0mwhether\u001b[0m \u001b[0mthe\u001b[0m \u001b[0mprovided\u001b[0m \u001b[0marray\u001b[0m \u001b[0;32mor\u001b[0m \u001b[0mdtype\u001b[0m \u001b[0;32mis\u001b[0m \u001b[0mof\u001b[0m \u001b[0man\u001b[0m \u001b[0minteger\u001b[0m \u001b[0mdtype\u001b[0m\u001b[0;34m.\u001b[0m\u001b[0;34m\u001b[0m\u001b[0;34m\u001b[0m\u001b[0m\n",
            "\u001b[0;31mKeyboardInterrupt\u001b[0m: "
          ]
        }
      ]
    },
    {
      "cell_type": "markdown",
      "metadata": {
        "id": "X-dA0q0aZKdL",
        "colab_type": "text"
      },
      "source": [
        "### Train On the models"
      ]
    },
    {
      "cell_type": "code",
      "metadata": {
        "id": "uvLgZq_BIemp",
        "colab_type": "code",
        "colab": {}
      },
      "source": [
        "imdb = Train_on_models(df_train,df_test)"
      ],
      "execution_count": 0,
      "outputs": []
    },
    {
      "cell_type": "code",
      "metadata": {
        "id": "_xWacjV-67WC",
        "colab_type": "code",
        "colab": {}
      },
      "source": [
        "name = os.getcwd()+\"/drive/My Drive/outputs/\"+\"pre_imdb.npy\"\n",
        "np.save(name,imdb)"
      ],
      "execution_count": 0,
      "outputs": []
    },
    {
      "cell_type": "markdown",
      "metadata": {
        "id": "lrPXZ1zVYkTq",
        "colab_type": "text"
      },
      "source": [
        "## Dataset: Customer Complaint Dataset"
      ]
    },
    {
      "cell_type": "markdown",
      "metadata": {
        "id": "rcOC-iFmY6q2",
        "colab_type": "text"
      },
      "source": [
        "### Load and Preprocess Dataset"
      ]
    },
    {
      "cell_type": "code",
      "metadata": {
        "id": "ocppqNW-bM_k",
        "colab_type": "code",
        "outputId": "d22de838-5784-4c1b-dd28-161ccedc1997",
        "colab": {
          "base_uri": "https://localhost:8080/",
          "height": 1337
        }
      },
      "source": [
        "#customer complaints dataset\n",
        "\n",
        "df = pd.read_csv(data_path+\"/Consumer_Complaints.csv\",sep=\",\")\n",
        "col = ['Product', 'Consumer complaint narrative']\n",
        "df = df[col]\n",
        "df = df[pd.notnull(df['Consumer complaint narrative'])]\n",
        "df.columns = ['Product', 'Consumer_complaint_narrative']\n",
        "df['category_id'] = df['Product'].factorize()[0]\n",
        "\n",
        "#printing the available distribution of the labels\n",
        "import matplotlib.pyplot as plt\n",
        "fig = plt.figure(figsize=(5,5))\n",
        "df.groupby('Product').Consumer_complaint_narrative.count().plot.bar(ylim=0)\n",
        "plt.show()\n",
        "\n",
        "#columns list to be choosen (we have choosen columns which have count nearly more than 10k) manually\n",
        "cl = ['Bank account or service', 'Checking or savings account','Consumer Loan', 'Credit card', 'Credit card or prepaid card',\n",
        "       'Credit reporting',\n",
        "       'Credit reporting, credit repair services, or other personal consumer reports',\n",
        "       'Debt collection','Mortgage', 'Student loan']\n",
        "df = df[df['Product'].isin(cl)]\n",
        "\n",
        "#balance the dataset\n",
        "df_data = balance(df)\n",
        "print(\"row count : {}\".format(df_data['Product'].shape[0]))\n",
        "\n",
        "# train and test split\n",
        "train_data, test_data = train_test_split(df_data, test_size=0.5,stratify=df_data['Product'])\n",
        "train_data, test_data = train_test_split(train_data, test_size=0.3,stratify=train_data['Product'])\n",
        "\n",
        "#plot train data distribution\n",
        "import matplotlib.pyplot as plt\n",
        "fig = plt.figure(figsize=(5,5))\n",
        "train_data.groupby('Product').Consumer_complaint_narrative.count().plot.bar(ylim=0)\n",
        "plt.show()\n",
        "\n",
        "#rename the columns\n",
        "train_data.columns = ['label','data','id']\n",
        "test_data.columns = ['label','data','id']\n",
        "\n",
        "\n",
        "train_data['data'] = train_data['data'].map(normalize)\n",
        "test_data['data'] = test_data['data'].map(normalize)\n",
        "\n",
        "\n",
        "one_hot = LabelEncoder()\n",
        "\n",
        "# One-hot encode data\n",
        "train_data['label'] = one_hot.fit_transform(train_data['label'])\n",
        "test_data['label'] = one_hot.fit_transform(test_data['label'])\n",
        "import gc\n",
        "df_data = None\n",
        "gc.collect()"
      ],
      "execution_count": 0,
      "outputs": [
        {
          "output_type": "display_data",
          "data": {
            "image/png": "[encoded data removed]",
            "text/plain": [
              "<Figure size 360x360 with 1 Axes>"
            ]
          },
          "metadata": {
            "tags": []
          }
        },
        {
          "output_type": "stream",
          "text": [
            "Balancing the classes\n",
            "row count : 94730\n"
          ],
          "name": "stdout"
        },
        {
          "output_type": "display_data",
          "data": {
            "image/png": "[encoded data removed]",
            "text/plain": [
              "<Figure size 360x360 with 1 Axes>"
            ]
          },
          "metadata": {
            "tags": []
          }
        },
        {
          "output_type": "execute_result",
          "data": {
            "text/plain": [
              "23"
            ]
          },
          "metadata": {
            "tags": []
          },
          "execution_count": 11
        }
      ]
    },
    {
      "cell_type": "code",
      "metadata": {
        "id": "GEucfLr65hut",
        "colab_type": "code",
        "outputId": "56934f63-dad1-43bb-f95a-e1c3a4fb6d33",
        "colab": {
          "base_uri": "https://localhost:8080/",
          "height": 35
        }
      },
      "source": [
        ""
      ],
      "execution_count": 0,
      "outputs": [
        {
          "output_type": "execute_result",
          "data": {
            "text/plain": [
              "(26524,)"
            ]
          },
          "metadata": {
            "tags": []
          },
          "execution_count": 12
        }
      ]
    },
    {
      "cell_type": "markdown",
      "metadata": {
        "id": "UaBKDboxZOpA",
        "colab_type": "text"
      },
      "source": [
        "### Train on Models"
      ]
    },
    {
      "cell_type": "code",
      "metadata": {
        "id": "akwT_Y82b5lX",
        "colab_type": "code",
        "outputId": "60d2d008-19f8-4d02-e53a-94f762c12ce3",
        "colab": {
          "base_uri": "https://localhost:8080/",
          "height": 1268
        }
      },
      "source": [
        "cust = Train_on_models(train_data, test_data)"
      ],
      "execution_count": 0,
      "outputs": [
        {
          "output_type": "stream",
          "text": [
            "Words similar to good: \n"
          ],
          "name": "stdout"
        },
        {
          "output_type": "stream",
          "text": [
            "/usr/local/lib/python3.6/dist-packages/ipykernel_launcher.py:19: DeprecationWarning: Call to deprecated `wv` (Attribute will be removed in 4.0.0, use self instead).\n"
          ],
          "name": "stderr"
        },
        {
          "output_type": "stream",
          "text": [
            "[('queen', 0.9314123392105103), ('monarch', 0.858533501625061), ('princess', 0.8476566076278687), ('Queen_Consort', 0.8150269985198975), ('queens', 0.8099815249443054), ('crown_prince', 0.808997631072998), ('royal_palace', 0.8027306795120239), ('monarchy', 0.801961362361908), ('prince', 0.800979733467102), ('empress', 0.7958388328552246)]\n"
          ],
          "name": "stdout"
        },
        {
          "output_type": "stream",
          "text": [
            "/usr/local/lib/python3.6/dist-packages/ipykernel_launcher.py:39: DeprecationWarning: Call to deprecated `wv` (Attribute will be removed in 4.0.0, use self instead).\n",
            "/usr/local/lib/python3.6/dist-packages/ipykernel_launcher.py:40: DeprecationWarning: Call to deprecated `wv` (Attribute will be removed in 4.0.0, use self instead).\n"
          ],
          "name": "stderr"
        },
        {
          "output_type": "stream",
          "text": [
            "WARNING:tensorflow:From /usr/local/lib/python3.6/dist-packages/tensorflow/python/framework/op_def_library.py:263: colocate_with (from tensorflow.python.framework.ops) is deprecated and will be removed in a future version.\n",
            "Instructions for updating:\n",
            "Colocations handled automatically by placer.\n",
            "WARNING:tensorflow:From /usr/local/lib/python3.6/dist-packages/keras/backend/tensorflow_backend.py:3445: calling dropout (from tensorflow.python.ops.nn_ops) with keep_prob is deprecated and will be removed in a future version.\n",
            "Instructions for updating:\n",
            "Please use `rate` instead of `keep_prob`. Rate should be set to `rate = 1 - keep_prob`.\n",
            "_________________________________________________________________\n",
            "Layer (type)                 Output Shape              Param #   \n",
            "=================================================================\n",
            "embedding_1 (Embedding)      (None, 400, 300)          4500300   \n",
            "_________________________________________________________________\n",
            "bidirectional_1 (Bidirection (None, 128)               186880    \n",
            "_________________________________________________________________\n",
            "dropout_1 (Dropout)          (None, 128)               0         \n",
            "_________________________________________________________________\n",
            "dense_1 (Dense)              (None, 10)                1290      \n",
            "=================================================================\n",
            "Total params: 4,688,470\n",
            "Trainable params: 4,688,470\n",
            "Non-trainable params: 0\n",
            "_________________________________________________________________\n",
            "None\n",
            "WARNING:tensorflow:From /usr/local/lib/python3.6/dist-packages/tensorflow/python/ops/math_ops.py:3066: to_int32 (from tensorflow.python.ops.math_ops) is deprecated and will be removed in a future version.\n",
            "Instructions for updating:\n",
            "Use tf.cast instead.\n",
            "Train on 33155 samples, validate on 14210 samples\n",
            "Epoch 1/20\n",
            "33155/33155 [==============================] - 1511s 46ms/step - loss: 1.7408 - acc: 0.3515 - val_loss: 1.1426 - val_acc: 0.5720\n",
            "Epoch 2/20\n",
            "33155/33155 [==============================] - 1504s 45ms/step - loss: 1.1381 - acc: 0.5786 - val_loss: 0.9699 - val_acc: 0.6337\n",
            "Epoch 3/20\n",
            "33155/33155 [==============================] - 1494s 45ms/step - loss: 0.9473 - acc: 0.6409 - val_loss: 0.9291 - val_acc: 0.6553\n",
            "Epoch 4/20\n",
            "33155/33155 [==============================] - 1503s 45ms/step - loss: 0.8302 - acc: 0.6884 - val_loss: 0.9335 - val_acc: 0.6652\n",
            "Epoch 5/20\n",
            "33155/33155 [==============================] - 1405s 42ms/step - loss: 0.7416 - acc: 0.7310 - val_loss: 0.9606 - val_acc: 0.6659\n",
            "Epoch 6/20\n",
            "33155/33155 [==============================] - 1499s 45ms/step - loss: 0.6728 - acc: 0.7622 - val_loss: 0.9921 - val_acc: 0.6642\n",
            "Epoch 7/20\n",
            "33155/33155 [==============================] - 1485s 45ms/step - loss: 0.6103 - acc: 0.7891 - val_loss: 1.0359 - val_acc: 0.6599\n",
            "Epoch 8/20\n",
            "33155/33155 [==============================] - 1490s 45ms/step - loss: 0.5594 - acc: 0.8107 - val_loss: 1.0884 - val_acc: 0.6513\n",
            "Epoch 9/20\n",
            "33155/33155 [==============================] - 1509s 46ms/step - loss: 0.5155 - acc: 0.8281 - val_loss: 1.1126 - val_acc: 0.6494\n",
            "Epoch 10/20\n",
            "33155/33155 [==============================] - 1446s 44ms/step - loss: 0.4827 - acc: 0.8381 - val_loss: 1.1789 - val_acc: 0.6441\n",
            "Epoch 11/20\n",
            "33155/33155 [==============================] - 1480s 45ms/step - loss: 0.4477 - acc: 0.8531 - val_loss: 1.2415 - val_acc: 0.6413\n",
            "Epoch 12/20\n",
            "33155/33155 [==============================] - 1508s 45ms/step - loss: 0.4158 - acc: 0.8637 - val_loss: 1.2621 - val_acc: 0.6398\n",
            "Epoch 13/20\n",
            "33155/33155 [==============================] - 1446s 44ms/step - loss: 0.3931 - acc: 0.8721 - val_loss: 1.3690 - val_acc: 0.6362\n",
            "Epoch 14/20\n",
            "33155/33155 [==============================] - 1352s 41ms/step - loss: 0.3708 - acc: 0.8809 - val_loss: 1.4060 - val_acc: 0.6355\n",
            "Epoch 15/20\n",
            "33155/33155 [==============================] - 1337s 40ms/step - loss: 0.3524 - acc: 0.8849 - val_loss: 1.4355 - val_acc: 0.6304\n",
            "Epoch 16/20\n",
            "33155/33155 [==============================] - 1310s 40ms/step - loss: 0.3404 - acc: 0.8891 - val_loss: 1.5023 - val_acc: 0.6309\n",
            "Epoch 17/20\n",
            "33155/33155 [==============================] - 1318s 40ms/step - loss: 0.3168 - acc: 0.8950 - val_loss: 1.5810 - val_acc: 0.6232\n",
            "Epoch 18/20\n",
            "33155/33155 [==============================] - 1458s 44ms/step - loss: 0.3072 - acc: 0.8993 - val_loss: 1.5638 - val_acc: 0.6241\n",
            "Epoch 19/20\n",
            "33155/33155 [==============================] - 1387s 42ms/step - loss: 0.3011 - acc: 0.9032 - val_loss: 1.6096 - val_acc: 0.6245\n",
            "Epoch 20/20\n",
            "33155/33155 [==============================] - 1360s 41ms/step - loss: 0.2880 - acc: 0.9067 - val_loss: 1.6377 - val_acc: 0.6262\n"
          ],
          "name": "stdout"
        }
      ]
    },
    {
      "cell_type": "code",
      "metadata": {
        "id": "AM7-Dm087KQa",
        "colab_type": "code",
        "colab": {}
      },
      "source": [
        "name = os.getcwd()+\"/drive/My Drive/outputs/\"+\"pre_cust_rnn.npy\"\n",
        "np.save(name,cust)"
      ],
      "execution_count": 0,
      "outputs": []
    }
  ]
}